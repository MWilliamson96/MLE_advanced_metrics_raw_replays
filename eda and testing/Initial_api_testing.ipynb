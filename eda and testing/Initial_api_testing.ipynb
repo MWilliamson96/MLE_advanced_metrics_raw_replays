{
 "cells": [
  {
   "cell_type": "code",
   "execution_count": 2,
   "id": "latest-magnitude",
   "metadata": {},
   "outputs": [],
   "source": [
    "import requests\n",
    "from pathlib import Path"
   ]
  },
  {
   "cell_type": "markdown",
   "id": "cellular-punishment",
   "metadata": {},
   "source": [
    "pinging github to ensure requests is working properly"
   ]
  },
  {
   "cell_type": "code",
   "execution_count": 3,
   "id": "pointed-boost",
   "metadata": {},
   "outputs": [
    {
     "data": {
      "text/plain": [
       "<Response [200]>"
      ]
     },
     "execution_count": 3,
     "metadata": {},
     "output_type": "execute_result"
    }
   ],
   "source": [
    "requests.get('https://api.github.com')"
   ]
  },
  {
   "cell_type": "markdown",
   "id": "going-doctor",
   "metadata": {},
   "source": [
    "extracting authentication token from secrets.txt"
   ]
  },
  {
   "cell_type": "code",
   "execution_count": 4,
   "id": "veterinary-session",
   "metadata": {},
   "outputs": [
    {
     "data": {
      "text/plain": [
       "WindowsPath('C:/Users/mattd/Documents/Code_Projects/MLE_advanced_metrics_raw_replays/eda and testing')"
      ]
     },
     "execution_count": 4,
     "metadata": {},
     "output_type": "execute_result"
    }
   ],
   "source": [
    "Path.cwd()"
   ]
  },
  {
   "cell_type": "code",
   "execution_count": 11,
   "id": "correct-christianity",
   "metadata": {},
   "outputs": [],
   "source": [
    "secrets_path = Path.cwd().parent / 'data' / 'secrets.txt'\n",
    "secrets_file = open(str(secrets_path), mode='r')\n",
    "auth_token = secrets_file.readline()"
   ]
  },
  {
   "cell_type": "markdown",
   "id": "derived-bullet",
   "metadata": {},
   "source": [
    "pinging ballchasing api to check that authorization token is functioning propery"
   ]
  },
  {
   "cell_type": "code",
   "execution_count": 10,
   "id": "miniature-aerospace",
   "metadata": {},
   "outputs": [
    {
     "data": {
      "text/plain": [
       "<Response [200]>"
      ]
     },
     "execution_count": 10,
     "metadata": {},
     "output_type": "execute_result"
    }
   ],
   "source": [
    "requests.get('https://ballchasing.com/api/', headers={'Authorization': auth_token})"
   ]
  },
  {
   "cell_type": "markdown",
   "id": "chemical-automation",
   "metadata": {},
   "source": [
    "try fetching a specific replay from the s11 spreadsheet"
   ]
  },
  {
   "cell_type": "code",
   "execution_count": null,
   "id": "finished-excerpt",
   "metadata": {},
   "outputs": [],
   "source": []
  }
 ],
 "metadata": {
  "kernelspec": {
   "display_name": "mle_advanced_metrics_env",
   "language": "python",
   "name": "mle_advanced_metrics_env"
  },
  "language_info": {
   "codemirror_mode": {
    "name": "ipython",
    "version": 3
   },
   "file_extension": ".py",
   "mimetype": "text/x-python",
   "name": "python",
   "nbconvert_exporter": "python",
   "pygments_lexer": "ipython3",
   "version": "3.8.5"
  }
 },
 "nbformat": 4,
 "nbformat_minor": 5
}
